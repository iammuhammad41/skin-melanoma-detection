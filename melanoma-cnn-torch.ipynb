{
  "cells": [
    {
      "cell_type": "markdown",
      "metadata": {
        "id": "view-in-github",
        "colab_type": "text"
      },
      "source": [
        "<a href=\"https://colab.research.google.com/github/iammuhammad41/skin-melanoma-detection/blob/main/melanoma-cnn-torch.ipynb\" target=\"_parent\"><img src=\"https://colab.research.google.com/assets/colab-badge.svg\" alt=\"Open In Colab\"/></a>"
      ]
    },
    {
      "cell_type": "code",
      "execution_count": null,
      "id": "6f6bcfcb",
      "metadata": {
        "_cell_guid": "b1076dfc-b9ad-4769-8c92-a6c4dae69d19",
        "_uuid": "8f2839f25d086af736a60e9eeb907d3b93b6e0e5",
        "execution": {
          "iopub.execute_input": "2022-07-30T08:27:37.769025Z",
          "iopub.status.busy": "2022-07-30T08:27:37.768630Z",
          "iopub.status.idle": "2022-07-30T08:27:37.780069Z",
          "shell.execute_reply": "2022-07-30T08:27:37.779425Z"
        },
        "papermill": {
          "duration": 0.030047,
          "end_time": "2022-07-30T08:27:37.781810",
          "exception": false,
          "start_time": "2022-07-30T08:27:37.751763",
          "status": "completed"
        },
        "tags": [],
        "id": "6f6bcfcb"
      },
      "outputs": [],
      "source": [
        "import numpy as np\n",
        "import pandas as pd\n",
        "import os"
      ]
    },
    {
      "cell_type": "code",
      "execution_count": null,
      "id": "2837a0aa",
      "metadata": {
        "execution": {
          "iopub.execute_input": "2022-07-30T08:27:37.810288Z",
          "iopub.status.busy": "2022-07-30T08:27:37.810091Z",
          "iopub.status.idle": "2022-07-30T08:27:41.108786Z",
          "shell.execute_reply": "2022-07-30T08:27:41.107973Z"
        },
        "papermill": {
          "duration": 3.315443,
          "end_time": "2022-07-30T08:27:41.111157",
          "exception": false,
          "start_time": "2022-07-30T08:27:37.795714",
          "status": "completed"
        },
        "tags": [],
        "id": "2837a0aa"
      },
      "outputs": [],
      "source": [
        "from tqdm.notebook import tqdm\n",
        "import torch\n",
        "import torchvision\n",
        "import torchvision.transforms as transforms\n",
        "import torch.nn as nn\n",
        "import torch.nn.functional as F\n",
        "import torch.optim as optim\n",
        "from torch.utils.data import DataLoader, SubsetRandomSampler, TensorDataset, random_split, SubsetRandomSampler, ConcatDataset\n",
        "\n",
        "import matplotlib.pyplot as plt\n",
        "from sklearn.metrics import confusion_matrix\n",
        "from sklearn.model_selection import KFold"
      ]
    },
    {
      "cell_type": "code",
      "execution_count": null,
      "id": "edde0b1b",
      "metadata": {
        "execution": {
          "iopub.execute_input": "2022-07-30T08:27:41.175545Z",
          "iopub.status.busy": "2022-07-30T08:27:41.174921Z",
          "iopub.status.idle": "2022-07-30T08:27:50.212331Z",
          "shell.execute_reply": "2022-07-30T08:27:50.211487Z"
        },
        "papermill": {
          "duration": 9.056935,
          "end_time": "2022-07-30T08:27:50.215448",
          "exception": false,
          "start_time": "2022-07-30T08:27:41.158513",
          "status": "completed"
        },
        "tags": [],
        "id": "edde0b1b",
        "outputId": "77d52957-2af8-49da-8d46-6c1e63148492"
      },
      "outputs": [
        {
          "data": {
            "text/plain": [
              "['benign', 'malignant']"
            ]
          },
          "execution_count": 3,
          "metadata": {},
          "output_type": "execute_result"
        }
      ],
      "source": [
        "transform = transforms.Compose([transforms.Resize((227, 227)),\n",
        "                                transforms.ToTensor(),\n",
        "                                transforms.Normalize((0.485, 0.456, 0.406), (0.229, 0.224, 0.225))])\n",
        "\n",
        "batch_size = 64\n",
        "\n",
        "train_set = torchvision.datasets.ImageFolder('../input/melanoma-skin-cancer-dataset-of-10000-images/melanoma_cancer_dataset/train',\n",
        "                                            transform=transform)\n",
        "\n",
        "test_set = torchvision.datasets.ImageFolder('../input/melanoma-skin-cancer-dataset-of-10000-images/melanoma_cancer_dataset/test',\n",
        "                                            transform=transform)\n",
        "\n",
        "train_loader = torch.utils.data.DataLoader(train_set, batch_size=batch_size,\n",
        "                                          shuffle=True, num_workers=2)\n",
        "\n",
        "classes = train_set.classes\n",
        "\n",
        "classes"
      ]
    },
    {
      "cell_type": "code",
      "execution_count": null,
      "id": "5565d67d",
      "metadata": {
        "execution": {
          "iopub.execute_input": "2022-07-30T08:27:50.326428Z",
          "iopub.status.busy": "2022-07-30T08:27:50.326015Z",
          "iopub.status.idle": "2022-07-30T08:27:50.394875Z",
          "shell.execute_reply": "2022-07-30T08:27:50.394118Z"
        },
        "papermill": {
          "duration": 0.097815,
          "end_time": "2022-07-30T08:27:50.396938",
          "exception": false,
          "start_time": "2022-07-30T08:27:50.299123",
          "status": "completed"
        },
        "tags": [],
        "id": "5565d67d"
      },
      "outputs": [],
      "source": [
        "device = torch.device('cuda:0' if torch.cuda.is_available() else 'cpu')"
      ]
    },
    {
      "cell_type": "code",
      "execution_count": null,
      "id": "919c1996",
      "metadata": {
        "execution": {
          "iopub.execute_input": "2022-07-30T08:27:50.444240Z",
          "iopub.status.busy": "2022-07-30T08:27:50.443932Z",
          "iopub.status.idle": "2022-07-30T08:27:53.806547Z",
          "shell.execute_reply": "2022-07-30T08:27:53.805858Z"
        },
        "papermill": {
          "duration": 3.388578,
          "end_time": "2022-07-30T08:27:53.808351",
          "exception": false,
          "start_time": "2022-07-30T08:27:50.419773",
          "status": "completed"
        },
        "tags": [],
        "id": "919c1996",
        "outputId": "754d4d74-1ff3-47ee-8087-2e203e123924"
      },
      "outputs": [
        {
          "data": {
            "text/plain": [
              "AlexNet(\n",
              "  (features): Sequential(\n",
              "    (0): Conv2d(3, 96, kernel_size=(11, 11), stride=(4, 4), padding=(2, 2))\n",
              "    (1): ReLU(inplace=True)\n",
              "    (2): MaxPool2d(kernel_size=3, stride=2, padding=0, dilation=1, ceil_mode=False)\n",
              "    (3): Conv2d(96, 256, kernel_size=(5, 5), stride=(1, 1), padding=(2, 2))\n",
              "    (4): ReLU(inplace=True)\n",
              "    (5): MaxPool2d(kernel_size=3, stride=2, padding=0, dilation=1, ceil_mode=False)\n",
              "    (6): Conv2d(256, 512, kernel_size=(3, 3), stride=(1, 1), padding=(1, 1))\n",
              "    (7): ReLU(inplace=True)\n",
              "    (8): MaxPool2d(kernel_size=3, stride=2, padding=0, dilation=1, ceil_mode=False)\n",
              "    (9): Conv2d(512, 512, kernel_size=(3, 3), stride=(1, 1), padding=(1, 1))\n",
              "    (10): ReLU(inplace=True)\n",
              "    (11): Conv2d(512, 256, kernel_size=(3, 3), stride=(1, 1), padding=(1, 1))\n",
              "    (12): ReLU(inplace=True)\n",
              "    (13): MaxPool2d(kernel_size=3, stride=2, padding=0, dilation=1, ceil_mode=False)\n",
              "    (14): AdaptiveAvgPool2d(output_size=(6, 6))\n",
              "  )\n",
              "  (classifier): Sequential(\n",
              "    (0): Linear(in_features=9216, out_features=4096, bias=True)\n",
              "    (1): Dropout(p=0.5, inplace=False)\n",
              "    (2): Linear(in_features=4096, out_features=4096, bias=True)\n",
              "    (3): Dropout(p=0.5, inplace=False)\n",
              "    (4): Linear(in_features=4096, out_features=2, bias=True)\n",
              "  )\n",
              ")"
            ]
          },
          "execution_count": 5,
          "metadata": {},
          "output_type": "execute_result"
        }
      ],
      "source": [
        "class AlexNet(nn.Module):\n",
        "    def __init__(self):\n",
        "        super().__init__()\n",
        "        self.features = nn.Sequential(nn.Conv2d(in_channels=3, out_channels=96, kernel_size=11, stride=4, padding=2),\n",
        "                                      nn.ReLU(inplace=True),\n",
        "                                      nn.MaxPool2d(kernel_size=3, stride=2),\n",
        "                                      nn.Conv2d(in_channels=96, out_channels=256, kernel_size=5, padding=2),\n",
        "                                      nn.ReLU(inplace=True),\n",
        "                                      nn.MaxPool2d(kernel_size=3, stride=2),\n",
        "                                      nn.Conv2d(in_channels=256, out_channels=512, kernel_size=3, padding=1),\n",
        "                                      nn.ReLU(inplace=True),\n",
        "                                      nn.MaxPool2d(kernel_size=3, stride=2),\n",
        "                                      nn.Conv2d(in_channels=512, out_channels=512, kernel_size=3, padding=1),\n",
        "                                      nn.ReLU(inplace=True),\n",
        "                                      nn.Conv2d(in_channels=512, out_channels=256, kernel_size=3, padding=1),\n",
        "                                      nn.ReLU(inplace=True),\n",
        "                                      nn.MaxPool2d(kernel_size=3, stride=2),\n",
        "                                      nn.AdaptiveAvgPool2d((6, 6))\n",
        "                                     )\n",
        "\n",
        "        self.classifier = nn.Sequential(nn.Linear(256 * 6 * 6, 4096),\n",
        "                                        nn.Dropout(p=0.5),\n",
        "                                        nn.Linear(4096, 4096),\n",
        "                                        nn.Dropout(p=0.5),\n",
        "                                        nn.Linear(4096, 2)\n",
        "                                       )\n",
        "\n",
        "\n",
        "    def forward(self, x):\n",
        "        x = self.features(x)\n",
        "\n",
        "        x = x.view(-1, 6 * 6 * 256)\n",
        "\n",
        "        x = self.classifier(x)\n",
        "        return x\n",
        "\n",
        "\n",
        "model = AlexNet()\n",
        "model.to(device)"
      ]
    },
    {
      "cell_type": "code",
      "execution_count": null,
      "id": "c5c0c4cc",
      "metadata": {
        "execution": {
          "iopub.execute_input": "2022-07-30T08:27:53.870527Z",
          "iopub.status.busy": "2022-07-30T08:27:53.869879Z",
          "iopub.status.idle": "2022-07-30T08:27:53.873482Z",
          "shell.execute_reply": "2022-07-30T08:27:53.872825Z"
        },
        "papermill": {
          "duration": 0.021097,
          "end_time": "2022-07-30T08:27:53.875284",
          "exception": false,
          "start_time": "2022-07-30T08:27:53.854187",
          "status": "completed"
        },
        "tags": [],
        "id": "c5c0c4cc"
      },
      "outputs": [],
      "source": [
        "criterion = nn.CrossEntropyLoss()"
      ]
    },
    {
      "cell_type": "code",
      "execution_count": null,
      "id": "bee0a141",
      "metadata": {
        "execution": {
          "iopub.execute_input": "2022-07-30T08:27:53.934177Z",
          "iopub.status.busy": "2022-07-30T08:27:53.933518Z",
          "iopub.status.idle": "2022-07-30T08:27:53.938192Z",
          "shell.execute_reply": "2022-07-30T08:27:53.937527Z"
        },
        "papermill": {
          "duration": 0.021851,
          "end_time": "2022-07-30T08:27:53.939808",
          "exception": false,
          "start_time": "2022-07-30T08:27:53.917957",
          "status": "completed"
        },
        "tags": [],
        "id": "bee0a141"
      },
      "outputs": [],
      "source": [
        "torch.manual_seed(42)\n",
        "\n",
        "#dataset = ConcatDataset([train_set, test_set])\n",
        "dataset = train_set\n",
        "\n",
        "num_epochs = 30\n",
        "\n",
        "k = 10\n",
        "\n",
        "splits = KFold(n_splits = k, shuffle = True, random_state = 42)\n",
        "\n",
        "foldperf = {}"
      ]
    },
    {
      "cell_type": "code",
      "execution_count": null,
      "id": "91ad3e9a",
      "metadata": {
        "execution": {
          "iopub.execute_input": "2022-07-30T08:27:53.970836Z",
          "iopub.status.busy": "2022-07-30T08:27:53.970301Z",
          "iopub.status.idle": "2022-07-30T08:27:53.979388Z",
          "shell.execute_reply": "2022-07-30T08:27:53.978739Z"
        },
        "papermill": {
          "duration": 0.025819,
          "end_time": "2022-07-30T08:27:53.980949",
          "exception": false,
          "start_time": "2022-07-30T08:27:53.955130",
          "status": "completed"
        },
        "tags": [],
        "id": "91ad3e9a"
      },
      "outputs": [],
      "source": [
        "def train_epoch(model, device, dataloader, loss_fn, optimizer):\n",
        "    train_loss, train_correct = 0.0, 0\n",
        "    model.train()\n",
        "    for images, labels in dataloader:\n",
        "\n",
        "        images,labels = images.to(device), labels.to(device)\n",
        "        optimizer.zero_grad()\n",
        "        output = model(images)\n",
        "        loss = loss_fn(output,labels)\n",
        "        loss.backward()\n",
        "        optimizer.step()\n",
        "        train_loss += loss.item() * images.size(0)\n",
        "        scores, predictions = torch.max(output.data, 1)\n",
        "        train_correct += (predictions == labels).sum().item()\n",
        "\n",
        "    return train_loss, train_correct\n",
        "\n",
        "def valid_epoch(model, device, dataloader, loss_fn):\n",
        "    valid_loss, val_correct = 0.0, 0\n",
        "    model.eval()\n",
        "    for images, labels in dataloader:\n",
        "\n",
        "        images, labels = images.to(device), labels.to(device)\n",
        "        output = model(images)\n",
        "        loss = loss_fn(output,labels)\n",
        "        valid_loss += loss.item() * images.size(0)\n",
        "        scores, predictions = torch.max(output.data,1)\n",
        "        val_correct += (predictions == labels).sum().item()\n",
        "\n",
        "    return valid_loss, val_correct"
      ]
    },
    {
      "cell_type": "code",
      "execution_count": null,
      "id": "77237281",
      "metadata": {
        "execution": {
          "iopub.execute_input": "2022-07-30T08:27:54.039970Z",
          "iopub.status.busy": "2022-07-30T08:27:54.039452Z",
          "iopub.status.idle": "2022-07-30T12:29:06.653841Z",
          "shell.execute_reply": "2022-07-30T12:29:06.653099Z"
        },
        "papermill": {
          "duration": 14472.632587,
          "end_time": "2022-07-30T12:29:06.656091",
          "exception": false,
          "start_time": "2022-07-30T08:27:54.023504",
          "status": "completed"
        },
        "tags": [],
        "id": "77237281",
        "outputId": "54d433bd-b638-4389-df60-e0db76c8c573",
        "colab": {
          "referenced_widgets": [
            "78f88c8ccae943ce98072b2f30b25101",
            "7c4e108a765c402384af8a3780f86356",
            "81892a6f8c6b4da5b322511169dcf1bf",
            "ec48c5be02a744f488c0775c500b942b",
            "4433ee8f0ffa409ca98ccac1bd7fed94",
            "df8dc650a7f64f748240d6eea2d90ce8",
            "e85b53d6d7d7462683604686fee30743",
            "5618a684a0f4493a9a1ea9df9347a686",
            "1319f72cd018466ea217302503b0800e",
            "626bd4d935d14cec87649878349bbd3a"
          ]
        }
      },
      "outputs": [
        {
          "name": "stdout",
          "output_type": "stream",
          "text": [
            "Fold 1\n"
          ]
        },
        {
          "data": {
            "application/vnd.jupyter.widget-view+json": {
              "model_id": "78f88c8ccae943ce98072b2f30b25101",
              "version_major": 2,
              "version_minor": 0
            },
            "text/plain": [
              "  0%|          | 0/30 [00:00<?, ?it/s]"
            ]
          },
          "metadata": {},
          "output_type": "display_data"
        },
        {
          "name": "stdout",
          "output_type": "stream",
          "text": [
            "Epoch:1/30 || AVG Training Loss:0.678 || AVG Test Loss:0.608 || AVG Training Acc 60.38 % || AVG Test Acc 72.63 %\n",
            "Epoch:2/30 || AVG Training Loss:0.431 || AVG Test Loss:0.485 || AVG Training Acc 78.70 % || AVG Test Acc 78.67 %\n",
            "Epoch:3/30 || AVG Training Loss:0.349 || AVG Test Loss:0.457 || AVG Training Acc 84.41 % || AVG Test Acc 80.96 %\n",
            "Epoch:4/30 || AVG Training Loss:0.308 || AVG Test Loss:0.307 || AVG Training Acc 87.04 % || AVG Test Acc 86.06 %\n",
            "Epoch:5/30 || AVG Training Loss:0.286 || AVG Test Loss:0.299 || AVG Training Acc 87.91 % || AVG Test Acc 86.89 %\n",
            "Epoch:6/30 || AVG Training Loss:0.278 || AVG Test Loss:0.280 || AVG Training Acc 88.52 % || AVG Test Acc 87.83 %\n",
            "Epoch:7/30 || AVG Training Loss:0.266 || AVG Test Loss:0.307 || AVG Training Acc 89.14 % || AVG Test Acc 86.99 %\n",
            "Epoch:8/30 || AVG Training Loss:0.266 || AVG Test Loss:0.306 || AVG Training Acc 89.15 % || AVG Test Acc 86.99 %\n",
            "Epoch:9/30 || AVG Training Loss:0.259 || AVG Test Loss:0.273 || AVG Training Acc 89.68 % || AVG Test Acc 88.14 %\n",
            "Epoch:10/30 || AVG Training Loss:0.253 || AVG Test Loss:0.299 || AVG Training Acc 89.77 % || AVG Test Acc 87.72 %\n",
            "Epoch:11/30 || AVG Training Loss:0.251 || AVG Test Loss:0.255 || AVG Training Acc 89.96 % || AVG Test Acc 89.59 %\n",
            "Epoch:12/30 || AVG Training Loss:0.243 || AVG Test Loss:0.253 || AVG Training Acc 90.34 % || AVG Test Acc 89.49 %\n",
            "Epoch:13/30 || AVG Training Loss:0.231 || AVG Test Loss:0.237 || AVG Training Acc 90.61 % || AVG Test Acc 89.80 %\n",
            "Epoch:14/30 || AVG Training Loss:0.230 || AVG Test Loss:0.259 || AVG Training Acc 91.02 % || AVG Test Acc 90.22 %\n",
            "Epoch:15/30 || AVG Training Loss:0.220 || AVG Test Loss:0.367 || AVG Training Acc 91.27 % || AVG Test Acc 84.91 %\n",
            "Epoch:16/30 || AVG Training Loss:0.248 || AVG Test Loss:0.229 || AVG Training Acc 89.78 % || AVG Test Acc 90.22 %\n",
            "Epoch:17/30 || AVG Training Loss:0.219 || AVG Test Loss:0.228 || AVG Training Acc 91.28 % || AVG Test Acc 90.11 %\n",
            "Epoch:18/30 || AVG Training Loss:0.204 || AVG Test Loss:0.250 || AVG Training Acc 91.73 % || AVG Test Acc 89.91 %\n",
            "Epoch:19/30 || AVG Training Loss:0.200 || AVG Test Loss:0.232 || AVG Training Acc 91.87 % || AVG Test Acc 90.32 %\n",
            "Epoch:20/30 || AVG Training Loss:0.196 || AVG Test Loss:0.205 || AVG Training Acc 92.24 % || AVG Test Acc 91.16 %\n",
            "Epoch:21/30 || AVG Training Loss:0.190 || AVG Test Loss:0.208 || AVG Training Acc 92.41 % || AVG Test Acc 91.36 %\n",
            "Epoch:22/30 || AVG Training Loss:0.189 || AVG Test Loss:0.217 || AVG Training Acc 92.34 % || AVG Test Acc 90.95 %\n",
            "Epoch:23/30 || AVG Training Loss:0.190 || AVG Test Loss:0.201 || AVG Training Acc 92.39 % || AVG Test Acc 91.68 %\n",
            "Epoch:24/30 || AVG Training Loss:0.180 || AVG Test Loss:0.227 || AVG Training Acc 92.73 % || AVG Test Acc 91.26 %\n",
            "Epoch:25/30 || AVG Training Loss:0.177 || AVG Test Loss:0.229 || AVG Training Acc 92.65 % || AVG Test Acc 90.53 %\n",
            "Epoch:26/30 || AVG Training Loss:0.181 || AVG Test Loss:0.194 || AVG Training Acc 92.67 % || AVG Test Acc 91.99 %\n",
            "Epoch:27/30 || AVG Training Loss:0.165 || AVG Test Loss:0.243 || AVG Training Acc 93.36 % || AVG Test Acc 90.01 %\n",
            "Epoch:28/30 || AVG Training Loss:0.160 || AVG Test Loss:0.209 || AVG Training Acc 93.71 % || AVG Test Acc 91.47 %\n",
            "Epoch:29/30 || AVG Training Loss:0.155 || AVG Test Loss:0.198 || AVG Training Acc 93.83 % || AVG Test Acc 91.57 %\n",
            "Epoch:30/30 || AVG Training Loss:0.148 || AVG Test Loss:0.203 || AVG Training Acc 94.13 % || AVG Test Acc 91.68 %\n",
            "Fold 2\n"
          ]
        },
        {
          "data": {
            "application/vnd.jupyter.widget-view+json": {
              "model_id": "7c4e108a765c402384af8a3780f86356",
              "version_major": 2,
              "version_minor": 0
            },
            "text/plain": [
              "  0%|          | 0/30 [00:00<?, ?it/s]"
            ]
          },
          "metadata": {},
          "output_type": "display_data"
        },
        {
          "name": "stdout",
          "output_type": "stream",
          "text": [
            "Epoch:1/30 || AVG Training Loss:0.151 || AVG Test Loss:0.168 || AVG Training Acc 94.09 % || AVG Test Acc 93.03 %\n",
            "Epoch:2/30 || AVG Training Loss:0.148 || AVG Test Loss:0.160 || AVG Training Acc 94.13 % || AVG Test Acc 93.76 %\n",
            "Epoch:3/30 || AVG Training Loss:0.135 || AVG Test Loss:0.146 || AVG Training Acc 94.75 % || AVG Test Acc 94.38 %\n",
            "Epoch:4/30 || AVG Training Loss:0.134 || AVG Test Loss:0.164 || AVG Training Acc 94.75 % || AVG Test Acc 93.44 %\n",
            "Epoch:5/30 || AVG Training Loss:0.126 || AVG Test Loss:0.158 || AVG Training Acc 94.82 % || AVG Test Acc 93.34 %\n",
            "Epoch:6/30 || AVG Training Loss:0.130 || AVG Test Loss:0.154 || AVG Training Acc 94.93 % || AVG Test Acc 94.28 %\n",
            "Epoch:7/30 || AVG Training Loss:0.109 || AVG Test Loss:0.140 || AVG Training Acc 95.87 % || AVG Test Acc 95.01 %\n",
            "Epoch:8/30 || AVG Training Loss:0.114 || AVG Test Loss:0.154 || AVG Training Acc 95.38 % || AVG Test Acc 94.17 %\n",
            "Epoch:9/30 || AVG Training Loss:0.106 || AVG Test Loss:0.211 || AVG Training Acc 96.00 % || AVG Test Acc 91.99 %\n",
            "Epoch:10/30 || AVG Training Loss:0.090 || AVG Test Loss:0.175 || AVG Training Acc 96.62 % || AVG Test Acc 93.76 %\n",
            "Epoch:11/30 || AVG Training Loss:0.089 || AVG Test Loss:0.171 || AVG Training Acc 96.75 % || AVG Test Acc 93.44 %\n",
            "Epoch:12/30 || AVG Training Loss:0.108 || AVG Test Loss:0.161 || AVG Training Acc 95.90 % || AVG Test Acc 93.76 %\n",
            "Epoch:13/30 || AVG Training Loss:0.081 || AVG Test Loss:0.151 || AVG Training Acc 97.24 % || AVG Test Acc 94.17 %\n",
            "Epoch:14/30 || AVG Training Loss:0.064 || AVG Test Loss:0.196 || AVG Training Acc 97.61 % || AVG Test Acc 92.20 %\n",
            "Epoch:15/30 || AVG Training Loss:0.083 || AVG Test Loss:0.181 || AVG Training Acc 96.82 % || AVG Test Acc 93.55 %\n",
            "Epoch:16/30 || AVG Training Loss:0.056 || AVG Test Loss:0.193 || AVG Training Acc 98.01 % || AVG Test Acc 92.30 %\n",
            "Epoch:17/30 || AVG Training Loss:0.067 || AVG Test Loss:0.228 || AVG Training Acc 97.58 % || AVG Test Acc 92.61 %\n",
            "Epoch:18/30 || AVG Training Loss:0.049 || AVG Test Loss:0.217 || AVG Training Acc 98.28 % || AVG Test Acc 93.03 %\n",
            "Epoch:19/30 || AVG Training Loss:0.044 || AVG Test Loss:0.212 || AVG Training Acc 98.53 % || AVG Test Acc 92.61 %\n",
            "Epoch:20/30 || AVG Training Loss:0.043 || AVG Test Loss:0.337 || AVG Training Acc 98.51 % || AVG Test Acc 89.18 %\n",
            "Epoch:21/30 || AVG Training Loss:0.200 || AVG Test Loss:0.184 || AVG Training Acc 91.96 % || AVG Test Acc 92.20 %\n",
            "Epoch:22/30 || AVG Training Loss:0.085 || AVG Test Loss:0.212 || AVG Training Acc 96.82 % || AVG Test Acc 93.13 %\n",
            "Epoch:23/30 || AVG Training Loss:0.067 || AVG Test Loss:0.200 || AVG Training Acc 97.54 % || AVG Test Acc 93.03 %\n",
            "Epoch:24/30 || AVG Training Loss:0.036 || AVG Test Loss:0.238 || AVG Training Acc 98.81 % || AVG Test Acc 93.13 %\n",
            "Epoch:25/30 || AVG Training Loss:0.048 || AVG Test Loss:0.210 || AVG Training Acc 98.18 % || AVG Test Acc 93.44 %\n",
            "Epoch:26/30 || AVG Training Loss:0.033 || AVG Test Loss:0.233 || AVG Training Acc 98.92 % || AVG Test Acc 93.13 %\n",
            "Epoch:27/30 || AVG Training Loss:0.021 || AVG Test Loss:0.279 || AVG Training Acc 99.33 % || AVG Test Acc 92.20 %\n",
            "Epoch:28/30 || AVG Training Loss:0.054 || AVG Test Loss:0.242 || AVG Training Acc 98.06 % || AVG Test Acc 93.34 %\n",
            "Epoch:29/30 || AVG Training Loss:0.016 || AVG Test Loss:0.241 || AVG Training Acc 99.56 % || AVG Test Acc 93.65 %\n",
            "Epoch:30/30 || AVG Training Loss:0.012 || AVG Test Loss:0.264 || AVG Training Acc 99.73 % || AVG Test Acc 92.72 %\n",
            "Fold 3\n"
          ]
        },
        {
          "data": {
            "application/vnd.jupyter.widget-view+json": {
              "model_id": "81892a6f8c6b4da5b322511169dcf1bf",
              "version_major": 2,
              "version_minor": 0
            },
            "text/plain": [
              "  0%|          | 0/30 [00:00<?, ?it/s]"
            ]
          },
          "metadata": {},
          "output_type": "display_data"
        },
        {
          "name": "stdout",
          "output_type": "stream",
          "text": [
            "Epoch:1/30 || AVG Training Loss:0.063 || AVG Test Loss:0.040 || AVG Training Acc 98.01 % || AVG Test Acc 98.44 %\n",
            "Epoch:2/30 || AVG Training Loss:0.035 || AVG Test Loss:0.049 || AVG Training Acc 98.68 % || AVG Test Acc 98.34 %\n",
            "Epoch:3/30 || AVG Training Loss:0.018 || AVG Test Loss:0.040 || AVG Training Acc 99.44 % || AVG Test Acc 98.86 %\n",
            "Epoch:4/30 || AVG Training Loss:0.042 || AVG Test Loss:0.046 || AVG Training Acc 98.72 % || AVG Test Acc 98.86 %\n",
            "Epoch:5/30 || AVG Training Loss:0.022 || AVG Test Loss:0.038 || AVG Training Acc 99.26 % || AVG Test Acc 98.75 %\n",
            "Epoch:6/30 || AVG Training Loss:0.009 || AVG Test Loss:0.031 || AVG Training Acc 99.81 % || AVG Test Acc 99.06 %\n",
            "Epoch:7/30 || AVG Training Loss:0.007 || AVG Test Loss:0.040 || AVG Training Acc 99.87 % || AVG Test Acc 98.75 %\n",
            "Epoch:8/30 || AVG Training Loss:0.002 || AVG Test Loss:0.024 || AVG Training Acc 100.00 % || AVG Test Acc 99.27 %\n",
            "Epoch:9/30 || AVG Training Loss:0.001 || AVG Test Loss:0.026 || AVG Training Acc 100.00 % || AVG Test Acc 99.06 %\n",
            "Epoch:10/30 || AVG Training Loss:0.001 || AVG Test Loss:0.025 || AVG Training Acc 100.00 % || AVG Test Acc 99.27 %\n",
            "Epoch:11/30 || AVG Training Loss:0.001 || AVG Test Loss:0.025 || AVG Training Acc 100.00 % || AVG Test Acc 99.27 %\n",
            "Epoch:12/30 || AVG Training Loss:0.001 || AVG Test Loss:0.026 || AVG Training Acc 100.00 % || AVG Test Acc 99.27 %\n",
            "Epoch:13/30 || AVG Training Loss:0.001 || AVG Test Loss:0.026 || AVG Training Acc 100.00 % || AVG Test Acc 99.17 %\n",
            "Epoch:14/30 || AVG Training Loss:0.000 || AVG Test Loss:0.026 || AVG Training Acc 100.00 % || AVG Test Acc 99.17 %\n",
            "Epoch:15/30 || AVG Training Loss:0.000 || AVG Test Loss:0.025 || AVG Training Acc 100.00 % || AVG Test Acc 99.17 %\n",
            "Epoch:16/30 || AVG Training Loss:0.000 || AVG Test Loss:0.026 || AVG Training Acc 100.00 % || AVG Test Acc 99.38 %\n",
            "Epoch:17/30 || AVG Training Loss:0.000 || AVG Test Loss:0.027 || AVG Training Acc 100.00 % || AVG Test Acc 99.27 %\n",
            "Epoch:18/30 || AVG Training Loss:0.000 || AVG Test Loss:0.027 || AVG Training Acc 100.00 % || AVG Test Acc 99.38 %\n",
            "Epoch:19/30 || AVG Training Loss:0.000 || AVG Test Loss:0.027 || AVG Training Acc 100.00 % || AVG Test Acc 99.38 %\n",
            "Epoch:20/30 || AVG Training Loss:0.000 || AVG Test Loss:0.027 || AVG Training Acc 100.00 % || AVG Test Acc 99.27 %\n",
            "Epoch:21/30 || AVG Training Loss:0.000 || AVG Test Loss:0.027 || AVG Training Acc 100.00 % || AVG Test Acc 99.38 %\n",
            "Epoch:22/30 || AVG Training Loss:0.000 || AVG Test Loss:0.027 || AVG Training Acc 100.00 % || AVG Test Acc 99.27 %\n",
            "Epoch:23/30 || AVG Training Loss:0.000 || AVG Test Loss:0.028 || AVG Training Acc 100.00 % || AVG Test Acc 99.38 %\n",
            "Epoch:24/30 || AVG Training Loss:0.000 || AVG Test Loss:0.028 || AVG Training Acc 100.00 % || AVG Test Acc 99.48 %\n",
            "Epoch:25/30 || AVG Training Loss:0.000 || AVG Test Loss:0.028 || AVG Training Acc 100.00 % || AVG Test Acc 99.38 %\n",
            "Epoch:26/30 || AVG Training Loss:0.000 || AVG Test Loss:0.028 || AVG Training Acc 100.00 % || AVG Test Acc 99.38 %\n",
            "Epoch:27/30 || AVG Training Loss:0.000 || AVG Test Loss:0.028 || AVG Training Acc 100.00 % || AVG Test Acc 99.38 %\n",
            "Epoch:28/30 || AVG Training Loss:0.000 || AVG Test Loss:0.028 || AVG Training Acc 100.00 % || AVG Test Acc 99.38 %\n",
            "Epoch:29/30 || AVG Training Loss:0.000 || AVG Test Loss:0.028 || AVG Training Acc 100.00 % || AVG Test Acc 99.38 %\n",
            "Epoch:30/30 || AVG Training Loss:0.000 || AVG Test Loss:0.028 || AVG Training Acc 100.00 % || AVG Test Acc 99.38 %\n",
            "Fold 4\n"
          ]
        },
        {
          "data": {
            "application/vnd.jupyter.widget-view+json": {
              "model_id": "ec48c5be02a744f488c0775c500b942b",
              "version_major": 2,
              "version_minor": 0
            },
            "text/plain": [
              "  0%|          | 0/30 [00:00<?, ?it/s]"
            ]
          },
          "metadata": {},
          "output_type": "display_data"
        },
        {
          "name": "stdout",
          "output_type": "stream",
          "text": [
            "Epoch:1/30 || AVG Training Loss:0.079 || AVG Test Loss:0.022 || AVG Training Acc 97.48 % || AVG Test Acc 99.27 %\n",
            "Epoch:2/30 || AVG Training Loss:0.023 || AVG Test Loss:0.043 || AVG Training Acc 99.29 % || AVG Test Acc 98.23 %\n",
            "Epoch:3/30 || AVG Training Loss:0.021 || AVG Test Loss:0.013 || AVG Training Acc 99.29 % || AVG Test Acc 99.58 %\n",
            "Epoch:4/30 || AVG Training Loss:0.020 || AVG Test Loss:0.011 || AVG Training Acc 99.43 % || AVG Test Acc 99.69 %\n",
            "Epoch:5/30 || AVG Training Loss:0.009 || AVG Test Loss:0.009 || AVG Training Acc 99.78 % || AVG Test Acc 99.79 %\n",
            "Epoch:6/30 || AVG Training Loss:0.003 || AVG Test Loss:0.004 || AVG Training Acc 99.98 % || AVG Test Acc 99.90 %\n",
            "Epoch:7/30 || AVG Training Loss:0.001 || AVG Test Loss:0.003 || AVG Training Acc 100.00 % || AVG Test Acc 99.90 %\n",
            "Epoch:8/30 || AVG Training Loss:0.001 || AVG Test Loss:0.002 || AVG Training Acc 100.00 % || AVG Test Acc 100.00 %\n",
            "Epoch:9/30 || AVG Training Loss:0.000 || AVG Test Loss:0.002 || AVG Training Acc 100.00 % || AVG Test Acc 100.00 %\n",
            "Epoch:10/30 || AVG Training Loss:0.000 || AVG Test Loss:0.002 || AVG Training Acc 100.00 % || AVG Test Acc 100.00 %\n",
            "Epoch:11/30 || AVG Training Loss:0.000 || AVG Test Loss:0.002 || AVG Training Acc 100.00 % || AVG Test Acc 99.90 %\n",
            "Epoch:12/30 || AVG Training Loss:0.000 || AVG Test Loss:0.002 || AVG Training Acc 100.00 % || AVG Test Acc 100.00 %\n",
            "Epoch:13/30 || AVG Training Loss:0.000 || AVG Test Loss:0.002 || AVG Training Acc 100.00 % || AVG Test Acc 100.00 %\n",
            "Epoch:14/30 || AVG Training Loss:0.000 || AVG Test Loss:0.002 || AVG Training Acc 100.00 % || AVG Test Acc 99.90 %\n",
            "Epoch:15/30 || AVG Training Loss:0.000 || AVG Test Loss:0.002 || AVG Training Acc 100.00 % || AVG Test Acc 100.00 %\n",
            "Epoch:16/30 || AVG Training Loss:0.000 || AVG Test Loss:0.002 || AVG Training Acc 100.00 % || AVG Test Acc 100.00 %\n",
            "Epoch:17/30 || AVG Training Loss:0.000 || AVG Test Loss:0.002 || AVG Training Acc 100.00 % || AVG Test Acc 100.00 %\n",
            "Epoch:18/30 || AVG Training Loss:0.000 || AVG Test Loss:0.002 || AVG Training Acc 100.00 % || AVG Test Acc 100.00 %\n",
            "Epoch:19/30 || AVG Training Loss:0.000 || AVG Test Loss:0.002 || AVG Training Acc 100.00 % || AVG Test Acc 100.00 %\n",
            "Epoch:20/30 || AVG Training Loss:0.000 || AVG Test Loss:0.002 || AVG Training Acc 100.00 % || AVG Test Acc 100.00 %\n",
            "Epoch:21/30 || AVG Training Loss:0.000 || AVG Test Loss:0.002 || AVG Training Acc 100.00 % || AVG Test Acc 99.90 %\n",
            "Epoch:22/30 || AVG Training Loss:0.000 || AVG Test Loss:0.003 || AVG Training Acc 100.00 % || AVG Test Acc 99.90 %\n",
            "Epoch:23/30 || AVG Training Loss:0.000 || AVG Test Loss:0.003 || AVG Training Acc 100.00 % || AVG Test Acc 99.90 %\n",
            "Epoch:24/30 || AVG Training Loss:0.000 || AVG Test Loss:0.003 || AVG Training Acc 100.00 % || AVG Test Acc 99.90 %\n",
            "Epoch:25/30 || AVG Training Loss:0.000 || AVG Test Loss:0.002 || AVG Training Acc 100.00 % || AVG Test Acc 100.00 %\n",
            "Epoch:26/30 || AVG Training Loss:0.000 || AVG Test Loss:0.002 || AVG Training Acc 100.00 % || AVG Test Acc 99.90 %\n",
            "Epoch:27/30 || AVG Training Loss:0.000 || AVG Test Loss:0.003 || AVG Training Acc 100.00 % || AVG Test Acc 99.90 %\n",
            "Epoch:28/30 || AVG Training Loss:0.000 || AVG Test Loss:0.003 || AVG Training Acc 100.00 % || AVG Test Acc 99.90 %\n",
            "Epoch:29/30 || AVG Training Loss:0.000 || AVG Test Loss:0.003 || AVG Training Acc 100.00 % || AVG Test Acc 99.90 %\n",
            "Epoch:30/30 || AVG Training Loss:0.000 || AVG Test Loss:0.003 || AVG Training Acc 100.00 % || AVG Test Acc 99.90 %\n",
            "Fold 5\n"
          ]
        },
        {
          "data": {
            "application/vnd.jupyter.widget-view+json": {
              "model_id": "4433ee8f0ffa409ca98ccac1bd7fed94",
              "version_major": 2,
              "version_minor": 0
            },
            "text/plain": [
              "  0%|          | 0/30 [00:00<?, ?it/s]"
            ]
          },
          "metadata": {},
          "output_type": "display_data"
        },
        {
          "name": "stdout",
          "output_type": "stream",
          "text": [
            "Epoch:1/30 || AVG Training Loss:0.021 || AVG Test Loss:0.319 || AVG Training Acc 99.31 % || AVG Test Acc 90.43 %\n",
            "Epoch:2/30 || AVG Training Loss:0.153 || AVG Test Loss:0.178 || AVG Training Acc 94.30 % || AVG Test Acc 92.30 %\n",
            "Epoch:3/30 || AVG Training Loss:0.041 || AVG Test Loss:0.047 || AVG Training Acc 98.57 % || AVG Test Acc 98.65 %\n",
            "Epoch:4/30 || AVG Training Loss:0.016 || AVG Test Loss:0.027 || AVG Training Acc 99.53 % || AVG Test Acc 99.38 %\n",
            "Epoch:5/30 || AVG Training Loss:0.006 || AVG Test Loss:0.012 || AVG Training Acc 99.95 % || AVG Test Acc 99.90 %\n",
            "Epoch:6/30 || AVG Training Loss:0.002 || AVG Test Loss:0.012 || AVG Training Acc 100.00 % || AVG Test Acc 99.79 %\n",
            "Epoch:7/30 || AVG Training Loss:0.001 || AVG Test Loss:0.010 || AVG Training Acc 100.00 % || AVG Test Acc 99.69 %\n",
            "Epoch:8/30 || AVG Training Loss:0.001 || AVG Test Loss:0.011 || AVG Training Acc 100.00 % || AVG Test Acc 99.69 %\n",
            "Epoch:9/30 || AVG Training Loss:0.001 || AVG Test Loss:0.011 || AVG Training Acc 100.00 % || AVG Test Acc 99.69 %\n",
            "Epoch:10/30 || AVG Training Loss:0.001 || AVG Test Loss:0.011 || AVG Training Acc 100.00 % || AVG Test Acc 99.58 %\n",
            "Epoch:11/30 || AVG Training Loss:0.001 || AVG Test Loss:0.011 || AVG Training Acc 100.00 % || AVG Test Acc 99.58 %\n",
            "Epoch:12/30 || AVG Training Loss:0.000 || AVG Test Loss:0.010 || AVG Training Acc 100.00 % || AVG Test Acc 99.69 %\n",
            "Epoch:13/30 || AVG Training Loss:0.000 || AVG Test Loss:0.011 || AVG Training Acc 100.00 % || AVG Test Acc 99.69 %\n",
            "Epoch:14/30 || AVG Training Loss:0.000 || AVG Test Loss:0.010 || AVG Training Acc 100.00 % || AVG Test Acc 99.79 %\n",
            "Epoch:15/30 || AVG Training Loss:0.000 || AVG Test Loss:0.010 || AVG Training Acc 100.00 % || AVG Test Acc 99.79 %\n",
            "Epoch:16/30 || AVG Training Loss:0.000 || AVG Test Loss:0.010 || AVG Training Acc 100.00 % || AVG Test Acc 99.79 %\n",
            "Epoch:17/30 || AVG Training Loss:0.000 || AVG Test Loss:0.011 || AVG Training Acc 100.00 % || AVG Test Acc 99.69 %\n",
            "Epoch:18/30 || AVG Training Loss:0.000 || AVG Test Loss:0.011 || AVG Training Acc 100.00 % || AVG Test Acc 99.69 %\n",
            "Epoch:19/30 || AVG Training Loss:0.000 || AVG Test Loss:0.011 || AVG Training Acc 100.00 % || AVG Test Acc 99.69 %\n",
            "Epoch:20/30 || AVG Training Loss:0.000 || AVG Test Loss:0.011 || AVG Training Acc 100.00 % || AVG Test Acc 99.79 %\n",
            "Epoch:21/30 || AVG Training Loss:0.000 || AVG Test Loss:0.010 || AVG Training Acc 100.00 % || AVG Test Acc 99.79 %\n",
            "Epoch:22/30 || AVG Training Loss:0.000 || AVG Test Loss:0.011 || AVG Training Acc 100.00 % || AVG Test Acc 99.79 %\n",
            "Epoch:23/30 || AVG Training Loss:0.000 || AVG Test Loss:0.011 || AVG Training Acc 100.00 % || AVG Test Acc 99.79 %\n",
            "Epoch:24/30 || AVG Training Loss:0.000 || AVG Test Loss:0.011 || AVG Training Acc 100.00 % || AVG Test Acc 99.79 %\n",
            "Epoch:25/30 || AVG Training Loss:0.000 || AVG Test Loss:0.011 || AVG Training Acc 100.00 % || AVG Test Acc 99.69 %\n",
            "Epoch:26/30 || AVG Training Loss:0.000 || AVG Test Loss:0.011 || AVG Training Acc 100.00 % || AVG Test Acc 99.79 %\n",
            "Epoch:27/30 || AVG Training Loss:0.000 || AVG Test Loss:0.011 || AVG Training Acc 100.00 % || AVG Test Acc 99.79 %\n",
            "Epoch:28/30 || AVG Training Loss:0.000 || AVG Test Loss:0.011 || AVG Training Acc 100.00 % || AVG Test Acc 99.79 %\n",
            "Epoch:29/30 || AVG Training Loss:0.000 || AVG Test Loss:0.011 || AVG Training Acc 100.00 % || AVG Test Acc 99.69 %\n",
            "Epoch:30/30 || AVG Training Loss:0.000 || AVG Test Loss:0.011 || AVG Training Acc 100.00 % || AVG Test Acc 99.79 %\n",
            "Fold 6\n"
          ]
        },
        {
          "data": {
            "application/vnd.jupyter.widget-view+json": {
              "model_id": "df8dc650a7f64f748240d6eea2d90ce8",
              "version_major": 2,
              "version_minor": 0
            },
            "text/plain": [
              "  0%|          | 0/30 [00:00<?, ?it/s]"
            ]
          },
          "metadata": {},
          "output_type": "display_data"
        },
        {
          "name": "stdout",
          "output_type": "stream",
          "text": [
            "Epoch:1/30 || AVG Training Loss:0.022 || AVG Test Loss:0.068 || AVG Training Acc 99.32 % || AVG Test Acc 97.81 %\n",
            "Epoch:2/30 || AVG Training Loss:0.020 || AVG Test Loss:0.013 || AVG Training Acc 99.38 % || AVG Test Acc 99.58 %\n",
            "Epoch:3/30 || AVG Training Loss:0.020 || AVG Test Loss:0.031 || AVG Training Acc 99.33 % || AVG Test Acc 98.96 %\n",
            "Epoch:4/30 || AVG Training Loss:0.014 || AVG Test Loss:0.003 || AVG Training Acc 99.61 % || AVG Test Acc 100.00 %\n",
            "Epoch:5/30 || AVG Training Loss:0.001 || AVG Test Loss:0.002 || AVG Training Acc 100.00 % || AVG Test Acc 100.00 %\n",
            "Epoch:6/30 || AVG Training Loss:0.001 || AVG Test Loss:0.002 || AVG Training Acc 100.00 % || AVG Test Acc 100.00 %\n",
            "Epoch:7/30 || AVG Training Loss:0.000 || AVG Test Loss:0.002 || AVG Training Acc 100.00 % || AVG Test Acc 100.00 %\n",
            "Epoch:8/30 || AVG Training Loss:0.000 || AVG Test Loss:0.002 || AVG Training Acc 100.00 % || AVG Test Acc 100.00 %\n",
            "Epoch:9/30 || AVG Training Loss:0.000 || AVG Test Loss:0.002 || AVG Training Acc 100.00 % || AVG Test Acc 100.00 %\n",
            "Epoch:10/30 || AVG Training Loss:0.000 || AVG Test Loss:0.002 || AVG Training Acc 100.00 % || AVG Test Acc 100.00 %\n",
            "Epoch:11/30 || AVG Training Loss:0.000 || AVG Test Loss:0.002 || AVG Training Acc 100.00 % || AVG Test Acc 100.00 %\n",
            "Epoch:12/30 || AVG Training Loss:0.000 || AVG Test Loss:0.002 || AVG Training Acc 100.00 % || AVG Test Acc 100.00 %\n",
            "Epoch:13/30 || AVG Training Loss:0.000 || AVG Test Loss:0.002 || AVG Training Acc 100.00 % || AVG Test Acc 100.00 %\n",
            "Epoch:14/30 || AVG Training Loss:0.000 || AVG Test Loss:0.002 || AVG Training Acc 100.00 % || AVG Test Acc 100.00 %\n",
            "Epoch:15/30 || AVG Training Loss:0.000 || AVG Test Loss:0.002 || AVG Training Acc 100.00 % || AVG Test Acc 100.00 %\n",
            "Epoch:16/30 || AVG Training Loss:0.000 || AVG Test Loss:0.002 || AVG Training Acc 100.00 % || AVG Test Acc 100.00 %\n",
            "Epoch:17/30 || AVG Training Loss:0.000 || AVG Test Loss:0.002 || AVG Training Acc 100.00 % || AVG Test Acc 100.00 %\n",
            "Epoch:18/30 || AVG Training Loss:0.000 || AVG Test Loss:0.002 || AVG Training Acc 100.00 % || AVG Test Acc 100.00 %\n",
            "Epoch:19/30 || AVG Training Loss:0.000 || AVG Test Loss:0.002 || AVG Training Acc 100.00 % || AVG Test Acc 100.00 %\n",
            "Epoch:20/30 || AVG Training Loss:0.000 || AVG Test Loss:0.002 || AVG Training Acc 100.00 % || AVG Test Acc 100.00 %\n",
            "Epoch:21/30 || AVG Training Loss:0.000 || AVG Test Loss:0.002 || AVG Training Acc 100.00 % || AVG Test Acc 100.00 %\n",
            "Epoch:22/30 || AVG Training Loss:0.000 || AVG Test Loss:0.002 || AVG Training Acc 100.00 % || AVG Test Acc 100.00 %\n",
            "Epoch:23/30 || AVG Training Loss:0.000 || AVG Test Loss:0.002 || AVG Training Acc 100.00 % || AVG Test Acc 100.00 %\n",
            "Epoch:24/30 || AVG Training Loss:0.000 || AVG Test Loss:0.002 || AVG Training Acc 100.00 % || AVG Test Acc 100.00 %\n",
            "Epoch:25/30 || AVG Training Loss:0.000 || AVG Test Loss:0.002 || AVG Training Acc 100.00 % || AVG Test Acc 100.00 %\n",
            "Epoch:26/30 || AVG Training Loss:0.000 || AVG Test Loss:0.002 || AVG Training Acc 100.00 % || AVG Test Acc 100.00 %\n",
            "Epoch:27/30 || AVG Training Loss:0.000 || AVG Test Loss:0.002 || AVG Training Acc 100.00 % || AVG Test Acc 100.00 %\n",
            "Epoch:28/30 || AVG Training Loss:0.000 || AVG Test Loss:0.002 || AVG Training Acc 100.00 % || AVG Test Acc 100.00 %\n",
            "Epoch:29/30 || AVG Training Loss:0.000 || AVG Test Loss:0.002 || AVG Training Acc 100.00 % || AVG Test Acc 100.00 %\n",
            "Epoch:30/30 || AVG Training Loss:0.000 || AVG Test Loss:0.002 || AVG Training Acc 100.00 % || AVG Test Acc 100.00 %\n",
            "Fold 7\n"
          ]
        },
        {
          "data": {
            "application/vnd.jupyter.widget-view+json": {
              "model_id": "e85b53d6d7d7462683604686fee30743",
              "version_major": 2,
              "version_minor": 0
            },
            "text/plain": [
              "  0%|          | 0/30 [00:00<?, ?it/s]"
            ]
          },
          "metadata": {},
          "output_type": "display_data"
        },
        {
          "name": "stdout",
          "output_type": "stream",
          "text": [
            "Epoch:1/30 || AVG Training Loss:0.000 || AVG Test Loss:0.000 || AVG Training Acc 100.00 % || AVG Test Acc 100.00 %\n",
            "Epoch:2/30 || AVG Training Loss:0.000 || AVG Test Loss:0.000 || AVG Training Acc 100.00 % || AVG Test Acc 100.00 %\n",
            "Epoch:3/30 || AVG Training Loss:0.000 || AVG Test Loss:0.000 || AVG Training Acc 100.00 % || AVG Test Acc 100.00 %\n",
            "Epoch:4/30 || AVG Training Loss:0.000 || AVG Test Loss:0.000 || AVG Training Acc 100.00 % || AVG Test Acc 100.00 %\n",
            "Epoch:5/30 || AVG Training Loss:0.000 || AVG Test Loss:0.000 || AVG Training Acc 100.00 % || AVG Test Acc 100.00 %\n",
            "Epoch:6/30 || AVG Training Loss:0.000 || AVG Test Loss:0.000 || AVG Training Acc 100.00 % || AVG Test Acc 100.00 %\n",
            "Epoch:7/30 || AVG Training Loss:0.000 || AVG Test Loss:0.000 || AVG Training Acc 100.00 % || AVG Test Acc 100.00 %\n",
            "Epoch:8/30 || AVG Training Loss:0.000 || AVG Test Loss:0.000 || AVG Training Acc 100.00 % || AVG Test Acc 100.00 %\n",
            "Epoch:9/30 || AVG Training Loss:0.000 || AVG Test Loss:0.000 || AVG Training Acc 100.00 % || AVG Test Acc 100.00 %\n",
            "Epoch:10/30 || AVG Training Loss:0.000 || AVG Test Loss:0.000 || AVG Training Acc 100.00 % || AVG Test Acc 100.00 %\n",
            "Epoch:11/30 || AVG Training Loss:0.000 || AVG Test Loss:0.000 || AVG Training Acc 100.00 % || AVG Test Acc 100.00 %\n",
            "Epoch:12/30 || AVG Training Loss:0.000 || AVG Test Loss:0.000 || AVG Training Acc 100.00 % || AVG Test Acc 100.00 %\n",
            "Epoch:13/30 || AVG Training Loss:0.000 || AVG Test Loss:0.000 || AVG Training Acc 100.00 % || AVG Test Acc 100.00 %\n",
            "Epoch:14/30 || AVG Training Loss:0.000 || AVG Test Loss:0.000 || AVG Training Acc 100.00 % || AVG Test Acc 100.00 %\n",
            "Epoch:15/30 || AVG Training Loss:0.000 || AVG Test Loss:0.000 || AVG Training Acc 100.00 % || AVG Test Acc 100.00 %\n",
            "Epoch:16/30 || AVG Training Loss:0.000 || AVG Test Loss:0.000 || AVG Training Acc 100.00 % || AVG Test Acc 100.00 %\n",
            "Epoch:17/30 || AVG Training Loss:0.000 || AVG Test Loss:0.000 || AVG Training Acc 100.00 % || AVG Test Acc 100.00 %\n",
            "Epoch:18/30 || AVG Training Loss:0.000 || AVG Test Loss:0.001 || AVG Training Acc 100.00 % || AVG Test Acc 100.00 %\n",
            "Epoch:19/30 || AVG Training Loss:0.000 || AVG Test Loss:0.001 || AVG Training Acc 100.00 % || AVG Test Acc 100.00 %\n",
            "Epoch:20/30 || AVG Training Loss:0.000 || AVG Test Loss:0.001 || AVG Training Acc 100.00 % || AVG Test Acc 100.00 %\n",
            "Epoch:21/30 || AVG Training Loss:0.000 || AVG Test Loss:0.001 || AVG Training Acc 100.00 % || AVG Test Acc 100.00 %\n",
            "Epoch:22/30 || AVG Training Loss:0.000 || AVG Test Loss:0.001 || AVG Training Acc 100.00 % || AVG Test Acc 100.00 %\n",
            "Epoch:23/30 || AVG Training Loss:0.000 || AVG Test Loss:0.001 || AVG Training Acc 100.00 % || AVG Test Acc 100.00 %\n",
            "Epoch:24/30 || AVG Training Loss:0.000 || AVG Test Loss:0.001 || AVG Training Acc 100.00 % || AVG Test Acc 100.00 %\n",
            "Epoch:25/30 || AVG Training Loss:0.000 || AVG Test Loss:0.001 || AVG Training Acc 100.00 % || AVG Test Acc 100.00 %\n",
            "Epoch:26/30 || AVG Training Loss:0.000 || AVG Test Loss:0.001 || AVG Training Acc 100.00 % || AVG Test Acc 100.00 %\n",
            "Epoch:27/30 || AVG Training Loss:0.000 || AVG Test Loss:0.001 || AVG Training Acc 100.00 % || AVG Test Acc 100.00 %\n",
            "Epoch:28/30 || AVG Training Loss:0.000 || AVG Test Loss:0.001 || AVG Training Acc 100.00 % || AVG Test Acc 100.00 %\n",
            "Epoch:29/30 || AVG Training Loss:0.000 || AVG Test Loss:0.001 || AVG Training Acc 100.00 % || AVG Test Acc 100.00 %\n",
            "Epoch:30/30 || AVG Training Loss:0.000 || AVG Test Loss:0.001 || AVG Training Acc 100.00 % || AVG Test Acc 100.00 %\n",
            "Fold 8\n"
          ]
        },
        {
          "data": {
            "application/vnd.jupyter.widget-view+json": {
              "model_id": "5618a684a0f4493a9a1ea9df9347a686",
              "version_major": 2,
              "version_minor": 0
            },
            "text/plain": [
              "  0%|          | 0/30 [00:00<?, ?it/s]"
            ]
          },
          "metadata": {},
          "output_type": "display_data"
        },
        {
          "name": "stdout",
          "output_type": "stream",
          "text": [
            "Epoch:1/30 || AVG Training Loss:0.000 || AVG Test Loss:0.000 || AVG Training Acc 100.00 % || AVG Test Acc 100.00 %\n",
            "Epoch:2/30 || AVG Training Loss:0.000 || AVG Test Loss:0.000 || AVG Training Acc 100.00 % || AVG Test Acc 100.00 %\n",
            "Epoch:3/30 || AVG Training Loss:0.000 || AVG Test Loss:0.000 || AVG Training Acc 100.00 % || AVG Test Acc 100.00 %\n",
            "Epoch:4/30 || AVG Training Loss:0.000 || AVG Test Loss:0.000 || AVG Training Acc 100.00 % || AVG Test Acc 100.00 %\n",
            "Epoch:5/30 || AVG Training Loss:0.000 || AVG Test Loss:0.000 || AVG Training Acc 100.00 % || AVG Test Acc 100.00 %\n",
            "Epoch:6/30 || AVG Training Loss:0.000 || AVG Test Loss:0.000 || AVG Training Acc 100.00 % || AVG Test Acc 100.00 %\n",
            "Epoch:7/30 || AVG Training Loss:0.000 || AVG Test Loss:0.000 || AVG Training Acc 100.00 % || AVG Test Acc 100.00 %\n",
            "Epoch:8/30 || AVG Training Loss:0.000 || AVG Test Loss:0.000 || AVG Training Acc 100.00 % || AVG Test Acc 100.00 %\n",
            "Epoch:9/30 || AVG Training Loss:0.000 || AVG Test Loss:0.000 || AVG Training Acc 100.00 % || AVG Test Acc 100.00 %\n",
            "Epoch:10/30 || AVG Training Loss:0.000 || AVG Test Loss:0.000 || AVG Training Acc 100.00 % || AVG Test Acc 100.00 %\n",
            "Epoch:11/30 || AVG Training Loss:0.000 || AVG Test Loss:0.000 || AVG Training Acc 100.00 % || AVG Test Acc 100.00 %\n",
            "Epoch:12/30 || AVG Training Loss:0.000 || AVG Test Loss:0.000 || AVG Training Acc 100.00 % || AVG Test Acc 100.00 %\n",
            "Epoch:13/30 || AVG Training Loss:0.000 || AVG Test Loss:0.000 || AVG Training Acc 100.00 % || AVG Test Acc 100.00 %\n",
            "Epoch:14/30 || AVG Training Loss:0.000 || AVG Test Loss:0.000 || AVG Training Acc 100.00 % || AVG Test Acc 100.00 %\n",
            "Epoch:15/30 || AVG Training Loss:0.000 || AVG Test Loss:0.000 || AVG Training Acc 100.00 % || AVG Test Acc 100.00 %\n",
            "Epoch:16/30 || AVG Training Loss:0.000 || AVG Test Loss:0.000 || AVG Training Acc 100.00 % || AVG Test Acc 100.00 %\n",
            "Epoch:17/30 || AVG Training Loss:0.000 || AVG Test Loss:0.000 || AVG Training Acc 100.00 % || AVG Test Acc 100.00 %\n",
            "Epoch:18/30 || AVG Training Loss:0.000 || AVG Test Loss:0.000 || AVG Training Acc 100.00 % || AVG Test Acc 100.00 %\n",
            "Epoch:19/30 || AVG Training Loss:0.000 || AVG Test Loss:0.000 || AVG Training Acc 100.00 % || AVG Test Acc 100.00 %\n",
            "Epoch:20/30 || AVG Training Loss:0.000 || AVG Test Loss:0.000 || AVG Training Acc 100.00 % || AVG Test Acc 100.00 %\n",
            "Epoch:21/30 || AVG Training Loss:0.000 || AVG Test Loss:0.000 || AVG Training Acc 100.00 % || AVG Test Acc 100.00 %\n",
            "Epoch:22/30 || AVG Training Loss:0.000 || AVG Test Loss:0.000 || AVG Training Acc 100.00 % || AVG Test Acc 100.00 %\n",
            "Epoch:23/30 || AVG Training Loss:0.000 || AVG Test Loss:0.000 || AVG Training Acc 100.00 % || AVG Test Acc 100.00 %\n",
            "Epoch:24/30 || AVG Training Loss:0.000 || AVG Test Loss:0.000 || AVG Training Acc 100.00 % || AVG Test Acc 100.00 %\n",
            "Epoch:25/30 || AVG Training Loss:0.000 || AVG Test Loss:0.000 || AVG Training Acc 100.00 % || AVG Test Acc 100.00 %\n",
            "Epoch:26/30 || AVG Training Loss:0.000 || AVG Test Loss:0.000 || AVG Training Acc 100.00 % || AVG Test Acc 100.00 %\n",
            "Epoch:27/30 || AVG Training Loss:0.000 || AVG Test Loss:0.001 || AVG Training Acc 100.00 % || AVG Test Acc 100.00 %\n",
            "Epoch:28/30 || AVG Training Loss:0.000 || AVG Test Loss:0.001 || AVG Training Acc 100.00 % || AVG Test Acc 100.00 %\n",
            "Epoch:29/30 || AVG Training Loss:0.000 || AVG Test Loss:0.001 || AVG Training Acc 100.00 % || AVG Test Acc 100.00 %\n",
            "Epoch:30/30 || AVG Training Loss:0.000 || AVG Test Loss:0.001 || AVG Training Acc 100.00 % || AVG Test Acc 100.00 %\n",
            "Fold 9\n"
          ]
        },
        {
          "data": {
            "application/vnd.jupyter.widget-view+json": {
              "model_id": "1319f72cd018466ea217302503b0800e",
              "version_major": 2,
              "version_minor": 0
            },
            "text/plain": [
              "  0%|          | 0/30 [00:00<?, ?it/s]"
            ]
          },
          "metadata": {},
          "output_type": "display_data"
        },
        {
          "name": "stdout",
          "output_type": "stream",
          "text": [
            "Epoch:1/30 || AVG Training Loss:0.000 || AVG Test Loss:0.000 || AVG Training Acc 100.00 % || AVG Test Acc 100.00 %\n",
            "Epoch:2/30 || AVG Training Loss:0.000 || AVG Test Loss:0.000 || AVG Training Acc 100.00 % || AVG Test Acc 100.00 %\n",
            "Epoch:3/30 || AVG Training Loss:0.000 || AVG Test Loss:0.000 || AVG Training Acc 100.00 % || AVG Test Acc 100.00 %\n",
            "Epoch:4/30 || AVG Training Loss:0.000 || AVG Test Loss:0.000 || AVG Training Acc 100.00 % || AVG Test Acc 100.00 %\n",
            "Epoch:5/30 || AVG Training Loss:0.000 || AVG Test Loss:0.000 || AVG Training Acc 100.00 % || AVG Test Acc 100.00 %\n",
            "Epoch:6/30 || AVG Training Loss:0.000 || AVG Test Loss:0.000 || AVG Training Acc 100.00 % || AVG Test Acc 100.00 %\n",
            "Epoch:7/30 || AVG Training Loss:0.000 || AVG Test Loss:0.000 || AVG Training Acc 100.00 % || AVG Test Acc 100.00 %\n",
            "Epoch:8/30 || AVG Training Loss:0.000 || AVG Test Loss:0.000 || AVG Training Acc 100.00 % || AVG Test Acc 100.00 %\n",
            "Epoch:9/30 || AVG Training Loss:0.000 || AVG Test Loss:0.000 || AVG Training Acc 100.00 % || AVG Test Acc 100.00 %\n",
            "Epoch:10/30 || AVG Training Loss:0.000 || AVG Test Loss:0.000 || AVG Training Acc 100.00 % || AVG Test Acc 100.00 %\n",
            "Epoch:11/30 || AVG Training Loss:0.000 || AVG Test Loss:0.000 || AVG Training Acc 100.00 % || AVG Test Acc 100.00 %\n",
            "Epoch:12/30 || AVG Training Loss:0.000 || AVG Test Loss:0.000 || AVG Training Acc 100.00 % || AVG Test Acc 100.00 %\n",
            "Epoch:13/30 || AVG Training Loss:0.000 || AVG Test Loss:0.000 || AVG Training Acc 100.00 % || AVG Test Acc 100.00 %\n",
            "Epoch:14/30 || AVG Training Loss:0.000 || AVG Test Loss:0.000 || AVG Training Acc 100.00 % || AVG Test Acc 100.00 %\n",
            "Epoch:15/30 || AVG Training Loss:0.000 || AVG Test Loss:0.000 || AVG Training Acc 100.00 % || AVG Test Acc 100.00 %\n",
            "Epoch:16/30 || AVG Training Loss:0.000 || AVG Test Loss:0.000 || AVG Training Acc 100.00 % || AVG Test Acc 100.00 %\n",
            "Epoch:17/30 || AVG Training Loss:0.000 || AVG Test Loss:0.000 || AVG Training Acc 100.00 % || AVG Test Acc 100.00 %\n",
            "Epoch:18/30 || AVG Training Loss:0.000 || AVG Test Loss:0.000 || AVG Training Acc 100.00 % || AVG Test Acc 100.00 %\n",
            "Epoch:19/30 || AVG Training Loss:0.000 || AVG Test Loss:0.000 || AVG Training Acc 100.00 % || AVG Test Acc 100.00 %\n",
            "Epoch:20/30 || AVG Training Loss:0.000 || AVG Test Loss:0.000 || AVG Training Acc 100.00 % || AVG Test Acc 100.00 %\n",
            "Epoch:21/30 || AVG Training Loss:0.000 || AVG Test Loss:0.000 || AVG Training Acc 100.00 % || AVG Test Acc 100.00 %\n",
            "Epoch:22/30 || AVG Training Loss:0.000 || AVG Test Loss:0.000 || AVG Training Acc 100.00 % || AVG Test Acc 100.00 %\n",
            "Epoch:23/30 || AVG Training Loss:0.000 || AVG Test Loss:0.000 || AVG Training Acc 100.00 % || AVG Test Acc 100.00 %\n",
            "Epoch:24/30 || AVG Training Loss:0.000 || AVG Test Loss:0.001 || AVG Training Acc 100.00 % || AVG Test Acc 100.00 %\n",
            "Epoch:25/30 || AVG Training Loss:0.000 || AVG Test Loss:0.001 || AVG Training Acc 100.00 % || AVG Test Acc 100.00 %\n",
            "Epoch:26/30 || AVG Training Loss:0.000 || AVG Test Loss:0.001 || AVG Training Acc 100.00 % || AVG Test Acc 100.00 %\n",
            "Epoch:27/30 || AVG Training Loss:0.000 || AVG Test Loss:0.001 || AVG Training Acc 100.00 % || AVG Test Acc 100.00 %\n",
            "Epoch:28/30 || AVG Training Loss:0.000 || AVG Test Loss:0.001 || AVG Training Acc 100.00 % || AVG Test Acc 100.00 %\n",
            "Epoch:29/30 || AVG Training Loss:0.000 || AVG Test Loss:0.001 || AVG Training Acc 100.00 % || AVG Test Acc 100.00 %\n",
            "Epoch:30/30 || AVG Training Loss:0.000 || AVG Test Loss:0.001 || AVG Training Acc 100.00 % || AVG Test Acc 100.00 %\n",
            "Fold 10\n"
          ]
        },
        {
          "data": {
            "application/vnd.jupyter.widget-view+json": {
              "model_id": "626bd4d935d14cec87649878349bbd3a",
              "version_major": 2,
              "version_minor": 0
            },
            "text/plain": [
              "  0%|          | 0/30 [00:00<?, ?it/s]"
            ]
          },
          "metadata": {},
          "output_type": "display_data"
        },
        {
          "name": "stdout",
          "output_type": "stream",
          "text": [
            "Epoch:1/30 || AVG Training Loss:0.000 || AVG Test Loss:0.000 || AVG Training Acc 100.00 % || AVG Test Acc 100.00 %\n",
            "Epoch:2/30 || AVG Training Loss:0.000 || AVG Test Loss:0.000 || AVG Training Acc 100.00 % || AVG Test Acc 100.00 %\n",
            "Epoch:3/30 || AVG Training Loss:0.000 || AVG Test Loss:0.000 || AVG Training Acc 100.00 % || AVG Test Acc 100.00 %\n",
            "Epoch:4/30 || AVG Training Loss:0.000 || AVG Test Loss:0.000 || AVG Training Acc 100.00 % || AVG Test Acc 100.00 %\n",
            "Epoch:5/30 || AVG Training Loss:0.000 || AVG Test Loss:0.000 || AVG Training Acc 100.00 % || AVG Test Acc 100.00 %\n",
            "Epoch:6/30 || AVG Training Loss:0.000 || AVG Test Loss:0.000 || AVG Training Acc 100.00 % || AVG Test Acc 100.00 %\n",
            "Epoch:7/30 || AVG Training Loss:0.000 || AVG Test Loss:0.000 || AVG Training Acc 100.00 % || AVG Test Acc 100.00 %\n",
            "Epoch:8/30 || AVG Training Loss:0.000 || AVG Test Loss:0.000 || AVG Training Acc 100.00 % || AVG Test Acc 100.00 %\n",
            "Epoch:9/30 || AVG Training Loss:0.000 || AVG Test Loss:0.000 || AVG Training Acc 100.00 % || AVG Test Acc 100.00 %\n",
            "Epoch:10/30 || AVG Training Loss:0.000 || AVG Test Loss:0.000 || AVG Training Acc 100.00 % || AVG Test Acc 100.00 %\n",
            "Epoch:11/30 || AVG Training Loss:0.000 || AVG Test Loss:0.000 || AVG Training Acc 100.00 % || AVG Test Acc 100.00 %\n",
            "Epoch:12/30 || AVG Training Loss:0.000 || AVG Test Loss:0.000 || AVG Training Acc 100.00 % || AVG Test Acc 100.00 %\n",
            "Epoch:13/30 || AVG Training Loss:0.000 || AVG Test Loss:0.000 || AVG Training Acc 100.00 % || AVG Test Acc 100.00 %\n",
            "Epoch:14/30 || AVG Training Loss:0.000 || AVG Test Loss:0.000 || AVG Training Acc 100.00 % || AVG Test Acc 100.00 %\n",
            "Epoch:15/30 || AVG Training Loss:0.000 || AVG Test Loss:0.000 || AVG Training Acc 100.00 % || AVG Test Acc 100.00 %\n",
            "Epoch:16/30 || AVG Training Loss:0.000 || AVG Test Loss:0.000 || AVG Training Acc 100.00 % || AVG Test Acc 100.00 %\n",
            "Epoch:17/30 || AVG Training Loss:0.000 || AVG Test Loss:0.000 || AVG Training Acc 100.00 % || AVG Test Acc 100.00 %\n",
            "Epoch:18/30 || AVG Training Loss:0.000 || AVG Test Loss:0.000 || AVG Training Acc 100.00 % || AVG Test Acc 100.00 %\n",
            "Epoch:19/30 || AVG Training Loss:0.000 || AVG Test Loss:0.000 || AVG Training Acc 100.00 % || AVG Test Acc 100.00 %\n",
            "Epoch:20/30 || AVG Training Loss:0.000 || AVG Test Loss:0.000 || AVG Training Acc 100.00 % || AVG Test Acc 100.00 %\n",
            "Epoch:21/30 || AVG Training Loss:0.000 || AVG Test Loss:0.000 || AVG Training Acc 100.00 % || AVG Test Acc 100.00 %\n",
            "Epoch:22/30 || AVG Training Loss:0.000 || AVG Test Loss:0.000 || AVG Training Acc 100.00 % || AVG Test Acc 100.00 %\n",
            "Epoch:23/30 || AVG Training Loss:0.000 || AVG Test Loss:0.000 || AVG Training Acc 100.00 % || AVG Test Acc 100.00 %\n",
            "Epoch:24/30 || AVG Training Loss:0.000 || AVG Test Loss:0.000 || AVG Training Acc 100.00 % || AVG Test Acc 100.00 %\n",
            "Epoch:25/30 || AVG Training Loss:0.000 || AVG Test Loss:0.000 || AVG Training Acc 100.00 % || AVG Test Acc 100.00 %\n",
            "Epoch:26/30 || AVG Training Loss:0.000 || AVG Test Loss:0.000 || AVG Training Acc 100.00 % || AVG Test Acc 100.00 %\n",
            "Epoch:27/30 || AVG Training Loss:0.000 || AVG Test Loss:0.000 || AVG Training Acc 100.00 % || AVG Test Acc 100.00 %\n",
            "Epoch:28/30 || AVG Training Loss:0.000 || AVG Test Loss:0.001 || AVG Training Acc 100.00 % || AVG Test Acc 100.00 %\n",
            "Epoch:29/30 || AVG Training Loss:0.000 || AVG Test Loss:0.001 || AVG Training Acc 100.00 % || AVG Test Acc 100.00 %\n",
            "Epoch:30/30 || AVG Training Loss:0.000 || AVG Test Loss:0.001 || AVG Training Acc 100.00 % || AVG Test Acc 100.00 %\n"
          ]
        }
      ],
      "source": [
        "for fold, (train_idx,val_idx) in enumerate(splits.split(np.arange(len(dataset)))):\n",
        "\n",
        "    print('Fold {}'.format(fold + 1))\n",
        "\n",
        "    train_sampler = SubsetRandomSampler(train_idx)\n",
        "    test_sampler = SubsetRandomSampler(val_idx)\n",
        "    train_loader = DataLoader(dataset, batch_size = batch_size, sampler = train_sampler)\n",
        "    test_loader = DataLoader(dataset, batch_size = batch_size, sampler = test_sampler)\n",
        "\n",
        "    optimizer = optim.SGD(model.parameters(), lr=0.001, momentum=0.9, weight_decay=0.001)\n",
        "\n",
        "    history = {'train_loss': [], 'test_loss': [],'train_acc':[],'test_acc':[]}\n",
        "\n",
        "    for epoch in tqdm(range(num_epochs)):\n",
        "        train_loss, train_correct=train_epoch(model, device, train_loader, criterion, optimizer)\n",
        "        test_loss, test_correct=valid_epoch(model, device, test_loader, criterion)\n",
        "\n",
        "        train_loss = train_loss / len(train_loader.sampler)\n",
        "        train_acc = train_correct / len(train_loader.sampler) * 100\n",
        "        test_loss = test_loss / len(test_loader.sampler)\n",
        "        test_acc = test_correct / len(test_loader.sampler) * 100\n",
        "\n",
        "        print(\"Epoch:{}/{} || AVG Training Loss:{:.3f} || AVG Test Loss:{:.3f} || AVG Training Acc {:.2f} % || AVG Test Acc {:.2f} %\".format(epoch + 1,\n",
        "                                                                                                             num_epochs,\n",
        "                                                                                                             train_loss,\n",
        "                                                                                                             test_loss,\n",
        "                                                                                                             train_acc,\n",
        "                                                                                                             test_acc))\n",
        "        history['train_loss'].append(train_loss)\n",
        "        history['test_loss'].append(test_loss)\n",
        "        history['train_acc'].append(train_acc)\n",
        "        history['test_acc'].append(test_acc)\n",
        "\n",
        "    foldperf['fold{}'.format(fold+1)] = history\n",
        "\n",
        "torch.save(model,'melanoma_CNN.pt')"
      ]
    },
    {
      "cell_type": "code",
      "execution_count": null,
      "id": "8be91e6e",
      "metadata": {
        "execution": {
          "iopub.execute_input": "2022-07-30T12:29:07.144294Z",
          "iopub.status.busy": "2022-07-30T12:29:07.144019Z",
          "iopub.status.idle": "2022-07-30T12:29:12.566191Z",
          "shell.execute_reply": "2022-07-30T12:29:12.564398Z"
        },
        "papermill": {
          "duration": 5.540244,
          "end_time": "2022-07-30T12:29:12.568467",
          "exception": false,
          "start_time": "2022-07-30T12:29:07.028223",
          "status": "completed"
        },
        "tags": [],
        "id": "8be91e6e",
        "outputId": "9eb58ccb-2df3-4823-ec0e-278a80e0a2fa"
      },
      "outputs": [
        {
          "name": "stdout",
          "output_type": "stream",
          "text": [
            "Testing Accuracy: 91.9%\n",
            "Confusion Matrix:\n",
            " tensor([[472.,  28.],\n",
            "        [ 53., 447.]])\n"
          ]
        }
      ],
      "source": [
        "nb_classes = 2\n",
        "\n",
        "test_loader = torch.utils.data.DataLoader(test_set, batch_size=batch_size,\n",
        "                                          shuffle=True, num_workers=2)\n",
        "\n",
        "confusion_matrix = torch.zeros(nb_classes, nb_classes)\n",
        "with torch.no_grad():\n",
        "    test_running_corrects = 0.0\n",
        "    test_total = 0.0\n",
        "    model.eval()\n",
        "    for i, (test_inputs, test_labels) in enumerate(test_loader, 0):\n",
        "        test_inputs, test_labels = test_inputs.cuda(), test_labels.cuda()\n",
        "\n",
        "        test_outputs = model(test_inputs)\n",
        "        _, test_outputs = torch.max(test_outputs, 1)\n",
        "\n",
        "        test_total += test_labels.size(0)\n",
        "        test_running_corrects += (test_outputs == test_labels).sum().item()\n",
        "\n",
        "        for t, p in zip(test_labels.view(-1), test_outputs.view(-1)):\n",
        "            confusion_matrix[t.long(), p.long()] += 1\n",
        "\n",
        "\n",
        "    print(f'Testing Accuracy: {(100 * test_running_corrects / test_total)}%')\n",
        "print(f'Confusion Matrix:\\n {confusion_matrix}')"
      ]
    },
    {
      "cell_type": "code",
      "execution_count": null,
      "id": "9bbef0eb",
      "metadata": {
        "execution": {
          "iopub.execute_input": "2022-07-30T12:29:13.030803Z",
          "iopub.status.busy": "2022-07-30T12:29:13.030525Z",
          "iopub.status.idle": "2022-07-30T12:29:13.037273Z",
          "shell.execute_reply": "2022-07-30T12:29:13.036333Z"
        },
        "papermill": {
          "duration": 0.126868,
          "end_time": "2022-07-30T12:29:13.040316",
          "exception": false,
          "start_time": "2022-07-30T12:29:12.913448",
          "status": "completed"
        },
        "tags": [],
        "id": "9bbef0eb",
        "outputId": "8ac515f9-10c2-466c-fc5a-23a5abaab61e"
      },
      "outputs": [
        {
          "name": "stdout",
          "output_type": "stream",
          "text": [
            "F1 Score:  0.921\n"
          ]
        }
      ],
      "source": [
        "precision = confusion_matrix[0][0] / (confusion_matrix[0][0] + confusion_matrix[1][0])\n",
        "recall = confusion_matrix[0][0] / (confusion_matrix[0][0] + confusion_matrix[0][1])\n",
        "\n",
        "f1_score = 2 * precision * recall / (precision + recall)\n",
        "print(f'F1 Score: {f1_score: .3f}')"
      ]
    }
  ],
  "metadata": {
    "kernelspec": {
      "display_name": "Python 3",
      "language": "python",
      "name": "python3"
    },
    "language_info": {
      "codemirror_mode": {
        "name": "ipython",
        "version": 3
      },
      "file_extension": ".py",
      "mimetype": "text/x-python",
      "name": "python",
      "nbconvert_exporter": "python",
      "pygments_lexer": "ipython3",
      "version": "3.7.12"
    },
    "papermill": {
      "default_parameters": {},
      "duration": 14505.746382,
      "end_time": "2022-07-30T12:29:15.329935",
      "environment_variables": {},
      "exception": null,
      "input_path": "__notebook__.ipynb",
      "output_path": "__notebook__.ipynb",
      "parameters": {},
      "start_time": "2022-07-30T08:27:29.583553",
      "version": "2.3.4"
    },
    "colab": {
      "provenance": [],
      "include_colab_link": true
    }
  },
  "nbformat": 4,
  "nbformat_minor": 5
}